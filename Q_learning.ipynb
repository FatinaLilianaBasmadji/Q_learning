{
 "cells": [
  {
   "cell_type": "code",
   "execution_count": 854,
   "id": "f8b2994a",
   "metadata": {},
   "outputs": [],
   "source": [
    "# Algorithm:          Q - learning\n",
    "# Author:             Fatina Liliana Basmadji\n",
    "# Last modification:  15.05.2023"
   ]
  },
  {
   "attachments": {},
   "cell_type": "markdown",
   "id": "aee00983",
   "metadata": {},
   "source": [
    "<img src = \"maze_1.jpg\">"
   ]
  },
  {
   "cell_type": "code",
   "execution_count": 855,
   "id": "98085157",
   "metadata": {},
   "outputs": [],
   "source": [
    "import numpy as np\n",
    "import random"
   ]
  },
  {
   "cell_type": "code",
   "execution_count": 856,
   "id": "45626a91",
   "metadata": {},
   "outputs": [],
   "source": [
    "maze_rows = 4\n",
    "maze_columns = 4\n",
    "nr_of_episodes = 1000\n",
    "nr_of_steps = 20\n",
    "epsilon = 0.2\n",
    "nr_of_actions = 4\n",
    "alpha = 0.1\n",
    "gamma = 0.99"
   ]
  },
  {
   "cell_type": "code",
   "execution_count": 857,
   "id": "1e1370a1",
   "metadata": {},
   "outputs": [],
   "source": [
    "fstate_row = 2\n",
    "fstate_column = 3"
   ]
  },
  {
   "cell_type": "code",
   "execution_count": 858,
   "id": "2379f70f",
   "metadata": {},
   "outputs": [],
   "source": [
    "Q_table = np.zeros((4,4,4))  #actions: 0-up,  1-right, 2-down, 3-left"
   ]
  },
  {
   "cell_type": "code",
   "execution_count": 859,
   "id": "2a1f34b3",
   "metadata": {},
   "outputs": [],
   "source": [
    "R_table = np.zeros((4,4))-1\n",
    "R_table[0,3] = -10\n",
    "R_table[2,1] = -10\n",
    "R_table[3,2] = -10\n",
    "R_table[2,3] = 10"
   ]
  },
  {
   "cell_type": "code",
   "execution_count": 860,
   "id": "3326737d",
   "metadata": {},
   "outputs": [],
   "source": [
    "def state_init(R_table):\n",
    "    done = 0\n",
    "    while done == 0:\n",
    "        r_idx = random.randint(0, maze_rows-1)\n",
    "        c_idx = random.randint(0, maze_columns-1)\n",
    "        if R_table[r_idx,c_idx] != -10:\n",
    "            done = 1\n",
    "    return r_idx,c_idx"
   ]
  },
  {
   "cell_type": "code",
   "execution_count": 861,
   "id": "31acb530",
   "metadata": {},
   "outputs": [],
   "source": [
    "def choose_action(Q_table,r_idx,c_idx, epsilon, train):\n",
    "    prob = random.random()\n",
    "    if train == 0:\n",
    "        prob = 1\n",
    "    list0 = [0,1,2,3]\n",
    "    list1 = [1,2,3]\n",
    "    list2 = [0,1,3]\n",
    "    list3 = [0,1,2]\n",
    "    list4 = [0,2,3]\n",
    "    list5 = [1,2]\n",
    "    list6 = [0,1]\n",
    "    list7 = [2,3]\n",
    "    list8 = [0,3]\n",
    "     \n",
    "    if prob < epsilon:  \n",
    "        if r_idx == 0 and c_idx == 0:\n",
    "            action_idx = random.choice(list5) \n",
    "        elif r_idx == maze_rows-1 and c_idx == 0:\n",
    "            action_idx = random.choice(list6)\n",
    "        elif r_idx == 0 and c_idx == maze_columns-1:\n",
    "            action_idx = random.choice(list7)   \n",
    "        elif r_idx == maze_rows-1 and c_idx == maze_columns-1:\n",
    "            action_idx = random.choice(list8)\n",
    "        elif r_idx == 0:\n",
    "            action_idx = random.choice(list1)\n",
    "        elif r_idx == maze_rows-1:\n",
    "            action_idx = random.choice(list2)\n",
    "        elif c_idx == 0:\n",
    "            action_idx = random.choice(list3)\n",
    "        elif c_idx == maze_columns-1:\n",
    "            action_idx = random.choice(list4)\n",
    "        elif r_idx == 0 and c_idx == 0:\n",
    "            action_idx = random.choice(list5) \n",
    "        elif r_idx == maze_rows-1 and c_idx == 0:\n",
    "            action_idx = random.choice(list6)\n",
    "        elif r_idx == 0 and c_idx == maze_columns-1:\n",
    "            action_idx = random.choice(list7)   \n",
    "        elif r_idx == maze_rows-1 and c_idx == maze_columns-1:\n",
    "            action_idx = random.choice(list8)\n",
    "        else:   \n",
    "            action_idx = random.randint(0, nr_of_actions-1)\n",
    "            \n",
    "        Q_value =  Q_table[r_idx,c_idx,action_idx]\n",
    "        \n",
    "        \n",
    "    else:\n",
    "        if r_idx == 0 and c_idx == 0:\n",
    "            q = Q_table[r_idx,c_idx,list5]   \n",
    "            action_list = list5\n",
    "        elif r_idx == maze_rows-1 and c_idx == 0:\n",
    "            q = Q_table[r_idx,c_idx,list6]  \n",
    "            action_list = list6\n",
    "        elif r_idx == 0 and c_idx == maze_columns-1:\n",
    "            q = Q_table[r_idx,c_idx,list7]  \n",
    "            action_list = list7\n",
    "        elif r_idx == maze_rows-1 and c_idx == maze_columns-1:\n",
    "            q = Q_table[r_idx,c_idx,list8]\n",
    "            action_list = list8\n",
    "        elif r_idx == 0:\n",
    "            q = Q_table[r_idx,c_idx,list1]\n",
    "            action_list = list1\n",
    "        elif r_idx == maze_rows-1:\n",
    "            q = Q_table[r_idx,c_idx,list2]\n",
    "            action_list = list2\n",
    "        elif c_idx == 0:\n",
    "            q = Q_table[r_idx,c_idx,list3]\n",
    "            action_list = list3\n",
    "        elif c_idx == maze_columns-1:\n",
    "            q = Q_table[r_idx,c_idx,list4]\n",
    "            action_list = list4\n",
    "        else:  \n",
    "            q = Q_table[r_idx,c_idx,:]\n",
    "            action_list = list0\n",
    "        \n",
    "        action_idx = action_list[np.argmax(q)]\n",
    "        Q_value = q[np.argmax(q)]\n",
    "        \n",
    "    return action_idx, Q_value"
   ]
  },
  {
   "cell_type": "code",
   "execution_count": 862,
   "id": "7d21ed0c",
   "metadata": {},
   "outputs": [],
   "source": [
    "def take_action(Q_table,r_idx,c_idx,R_table, action):\n",
    "    next_r_idx = r_idx\n",
    "    next_c_idx = c_idx\n",
    "    if action == 0:\n",
    "        next_r_idx = r_idx - 1        \n",
    "    elif action == 1:\n",
    "        next_c_idx = c_idx + 1       \n",
    "    elif action == 2:       \n",
    "        next_r_idx = r_idx + 1       \n",
    "    elif action == 3:\n",
    "        next_c_idx = c_idx - 1   \n",
    "    reward = R_table[next_r_idx,next_c_idx]     \n",
    "    return next_r_idx, next_c_idx, reward"
   ]
  },
  {
   "cell_type": "code",
   "execution_count": 863,
   "id": "41084d56",
   "metadata": {},
   "outputs": [],
   "source": [
    "# Training\n",
    "for e in range(nr_of_episodes):\n",
    "    row, column = state_init(R_table)\n",
    "    for s in range(nr_of_steps):\n",
    "        action_idx, Q_value = choose_action(Q_table, row, column, epsilon, 1)\n",
    "        new_row, new_column, reward = take_action(Q_table, row, column, R_table, action_idx)       \n",
    "        var1 =  Q_table[row, column, action_idx]     \n",
    "        var2 =  max(Q_table[new_row, new_column])       \n",
    "        Q_table[row, column, action_idx] =  var1 + alpha * (reward + gamma * var2 -  var1 )\n",
    "        row = new_row\n",
    "        column = new_column\n",
    "        if row == fstate_row and column == fstate_column:\n",
    "            break      "
   ]
  },
  {
   "cell_type": "code",
   "execution_count": 888,
   "id": "7b819b4b",
   "metadata": {},
   "outputs": [
    {
     "name": "stdout",
     "output_type": "stream",
     "text": [
      "[0, 0] --> down --> [1, 0] --> right --> [1, 1] --> right --> [1, 2] --> down --> [2, 2] --> right --> [2, 3]\n",
      "Success\n"
     ]
    }
   ],
   "source": [
    "# Testing\n",
    "row, column = state_init(R_table)\n",
    "print([row, column], end = '')\n",
    "for s in range(nr_of_steps):\n",
    "    if row == fstate_row and column == fstate_column:\n",
    "        print('  You are at the goal position!')\n",
    "        break\n",
    "    action_idx, Q_value = choose_action(Q_table, row, column, epsilon, 0)\n",
    "    print(' --> ', end = '')\n",
    "    if action_idx == 0:\n",
    "        print('up', end = '')\n",
    "    elif action_idx == 1:\n",
    "        print('right', end = '')\n",
    "    elif action_idx == 2:\n",
    "        print('down', end = '')\n",
    "    else:\n",
    "        print('left', end = '')\n",
    "    print(' --> ', end = '')\n",
    "    row, column, reward = take_action(Q_table, row, column, R_table, action_idx)\n",
    "    print([row, column], end = '')\n",
    "    if row == fstate_row and column == fstate_column:\n",
    "        print('\\nSuccess')\n",
    "        break"
   ]
  }
 ],
 "metadata": {
  "kernelspec": {
   "display_name": "Python 3 (ipykernel)",
   "language": "python",
   "name": "python3"
  },
  "language_info": {
   "codemirror_mode": {
    "name": "ipython",
    "version": 3
   },
   "file_extension": ".py",
   "mimetype": "text/x-python",
   "name": "python",
   "nbconvert_exporter": "python",
   "pygments_lexer": "ipython3",
   "version": "3.8.10"
  }
 },
 "nbformat": 4,
 "nbformat_minor": 5
}
